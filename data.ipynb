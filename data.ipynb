{
 "cells": [
  {
   "cell_type": "code",
   "execution_count": null,
   "metadata": {},
   "outputs": [],
   "source": [
    "%pip install scholarly tqdm"
   ]
  },
  {
   "cell_type": "code",
   "execution_count": null,
   "metadata": {
    "metadata": {}
   },
   "outputs": [],
   "source": [
    "from scholarly import scholarly, ProxyGenerator\n",
    "from tqdm import tqdm\n",
    "import pickle"
   ]
  },
  {
   "cell_type": "markdown",
   "metadata": {},
   "source": [
    "# Download\n"
   ]
  },
  {
   "cell_type": "markdown",
   "metadata": {},
   "source": [
    "## Publications\n"
   ]
  },
  {
   "cell_type": "code",
   "execution_count": null,
   "metadata": {
    "metadata": {}
   },
   "outputs": [],
   "source": [
    "pg = ProxyGenerator()\n",
    "pg.FreeProxies()\n",
    "scholarly.use_proxy(pg)"
   ]
  },
  {
   "cell_type": "code",
   "execution_count": null,
   "metadata": {},
   "outputs": [],
   "source": [
    "publication_iterator = scholarly.search_pubs(\"Artificial Intelligence\")"
   ]
  },
  {
   "cell_type": "code",
   "execution_count": null,
   "metadata": {},
   "outputs": [],
   "source": [
    "with open(\"./data/publication_iterator\", \"rb\") as fp:\n",
    "    test = pickle.load(fp)"
   ]
  },
  {
   "cell_type": "code",
   "execution_count": null,
   "metadata": {},
   "outputs": [],
   "source": [
    "publications = []"
   ]
  },
  {
   "cell_type": "code",
   "execution_count": null,
   "metadata": {},
   "outputs": [],
   "source": [
    "pg = ProxyGenerator()\n",
    "\n",
    "while True:\n",
    "    try:\n",
    "        publication = next(publication_iterator)\n",
    "        if not publication:\n",
    "            break\n",
    "        publications.append(publication)\n",
    "        print(len(publications))\n",
    "    except Exception as exception:\n",
    "        print(exception)\n",
    "        pg.FreeProxies()\n",
    "        scholarly.use_proxy(pg)"
   ]
  },
  {
   "cell_type": "code",
   "execution_count": null,
   "metadata": {},
   "outputs": [],
   "source": [
    "with open(\"./data/publications\", \"wb\") as fp:\n",
    "    pickle.dump(publications, fp)"
   ]
  },
  {
   "cell_type": "markdown",
   "metadata": {},
   "source": [
    "## H-Index\n"
   ]
  },
  {
   "cell_type": "code",
   "execution_count": null,
   "metadata": {},
   "outputs": [],
   "source": [
    "with open(\"./data/publications\", \"rb\") as fp:\n",
    "    publications = pickle.load(fp)"
   ]
  },
  {
   "cell_type": "code",
   "execution_count": null,
   "metadata": {},
   "outputs": [],
   "source": [
    "# pg = ProxyGenerator()\n",
    "\n",
    "for index, publication in enumerate(tqdm(publications)):\n",
    "    if len(hindices) - 1 >= index:\n",
    "        continue\n",
    "\n",
    "    author_ids = publication[\"author_id\"]\n",
    "    publication_hindices = []\n",
    "\n",
    "    for author_id in author_ids:\n",
    "        if not author_id:\n",
    "            continue\n",
    "\n",
    "        successful = False\n",
    "        while not successful:\n",
    "            try:\n",
    "                author = scholarly.search_author_id(author_id)\n",
    "                scholarly.fill(author, sections=[\"indices\"])\n",
    "                successful = True\n",
    "            except Exception as exception:\n",
    "                print(f\"{exception} Retrying...\")\n",
    "                print(publication)\n",
    "                print(index)\n",
    "                # pg.FreeProxies()\n",
    "                # scholarly.use_proxy(pg)\n",
    "\n",
    "        hindex = author[\"hindex\"]\n",
    "        hindex5y = author[\"hindex5y\"]\n",
    "        i10index = author[\"i10index\"]\n",
    "        i10index5y = author[\"i10index5y\"]\n",
    "\n",
    "        publication_hindices.append(hindex)\n",
    "\n",
    "    hindices.append(publication_hindices)"
   ]
  },
  {
   "cell_type": "code",
   "execution_count": null,
   "metadata": {},
   "outputs": [],
   "source": [
    "with open(\"./data/hindices\", \"wb\") as fp:\n",
    "    pickle.dump(hindices, fp)"
   ]
  },
  {
   "cell_type": "markdown",
   "metadata": {},
   "source": [
    "# Cited by\n"
   ]
  },
  {
   "cell_type": "code",
   "execution_count": null,
   "metadata": {
    "metadata": {}
   },
   "outputs": [],
   "source": [
    "with open(\"./data/hindices\", \"rb\") as fp:\n",
    "    hindices = pickle.load(fp)\n",
    "\n",
    "with open(\"./data/publications\", \"rb\") as fp:\n",
    "    publications = pickle.load(fp)"
   ]
  },
  {
   "cell_type": "code",
   "execution_count": null,
   "metadata": {
    "metadata": {}
   },
   "outputs": [],
   "source": [
    "with open(\"./data/citedbys\", \"rb\") as fp:\n",
    "    citedbys = pickle.load(fp)"
   ]
  },
  {
   "cell_type": "code",
   "execution_count": null,
   "metadata": {
    "metadata": {}
   },
   "outputs": [],
   "source": [
    "MAX_CITED_BY = 5\n",
    "pg = ProxyGenerator()\n",
    "\n",
    "for index, publication in enumerate(tqdm(publications)):\n",
    "    if len(citedbys) - 1 >= index:\n",
    "        continue\n",
    "\n",
    "    successful = False\n",
    "    while not successful:\n",
    "        try:\n",
    "            citedbyListGenerator = scholarly.citedby(publication)\n",
    "            successful = True\n",
    "        except Exception as exception:\n",
    "            print(f\"{exception} Retrying...\")\n",
    "            pg.FreeProxies()\n",
    "            scholarly.use_proxy(pg)\n",
    "\n",
    "    citedbyList = []\n",
    "\n",
    "    while len(citedbyList) < MAX_CITED_BY:\n",
    "        try:\n",
    "            publication = next(citedbyListGenerator)\n",
    "            if not publication:\n",
    "                break\n",
    "            citedbyList.append(publication)\n",
    "        except Exception as exception:\n",
    "            print(exception)\n",
    "            pg.FreeProxies()\n",
    "            scholarly.use_proxy(pg)\n",
    "\n",
    "    citedbys.append(citedbyList)"
   ]
  },
  {
   "cell_type": "code",
   "execution_count": null,
   "metadata": {
    "metadata": {}
   },
   "outputs": [],
   "source": [
    "with open(\"./data/citedbys\", \"wb\") as fp:\n",
    "    pickle.dump(citedbys, fp)"
   ]
  },
  {
   "cell_type": "markdown",
   "metadata": {},
   "source": [
    "# Cited by H-Index\n"
   ]
  },
  {
   "cell_type": "code",
   "execution_count": null,
   "metadata": {
    "metadata": {}
   },
   "outputs": [],
   "source": [
    "with open(\"./data/citedbys\", \"rb\") as fp:\n",
    "    citedbys = pickle.load(fp)"
   ]
  },
  {
   "cell_type": "code",
   "execution_count": null,
   "metadata": {
    "metadata": {}
   },
   "outputs": [],
   "source": [
    "with open(\"./data/citedbys_hindex\", \"rb\") as fp:\n",
    "    citedbys_hindex = pickle.load(fp)"
   ]
  },
  {
   "cell_type": "code",
   "execution_count": null,
   "metadata": {
    "metadata": {}
   },
   "outputs": [],
   "source": [
    "for index, citedby in enumerate(tqdm(citedbys)):\n",
    "    if len(citedbys_hindex) - 1 >= index:\n",
    "        continue\n",
    "\n",
    "    tmp_hindices = []\n",
    "\n",
    "    for publication in citedby:\n",
    "        author_ids = publication[\"author_id\"]\n",
    "        publication_hindices = []\n",
    "\n",
    "        for author_id in author_ids:\n",
    "            if not author_id:\n",
    "                continue\n",
    "\n",
    "            successful = False\n",
    "            while not successful:\n",
    "                try:\n",
    "                    author = scholarly.search_author_id(author_id)\n",
    "                    scholarly.fill(author, sections=[\"indices\"])\n",
    "                    successful = True\n",
    "                except Exception as exception:\n",
    "                    print(f\"{exception} Retrying...\")\n",
    "                    print(publication)\n",
    "                    print(index)\n",
    "                    # pg.FreeProxies()\n",
    "                    # scholarly.use_proxy(pg)\n",
    "\n",
    "            hindex = author[\"hindex\"]\n",
    "            hindex5y = author[\"hindex5y\"]\n",
    "            i10index = author[\"i10index\"]\n",
    "            i10index5y = author[\"i10index5y\"]\n",
    "\n",
    "            publication_hindices.append(hindex)\n",
    "\n",
    "        tmp_hindices.append(publication_hindices)\n",
    "\n",
    "    citedbys_hindex.append(tmp_hindices)"
   ]
  },
  {
   "cell_type": "code",
   "execution_count": null,
   "metadata": {
    "metadata": {}
   },
   "outputs": [],
   "source": [
    "with open(\"./data/citedbys_hindex\", \"wb\") as fp:\n",
    "    pickle.dump(citedbys_hindex, fp)"
   ]
  },
  {
   "cell_type": "markdown",
   "metadata": {},
   "source": [
    "# Data to JS\n"
   ]
  },
  {
   "cell_type": "code",
   "execution_count": null,
   "metadata": {
    "metadata": {}
   },
   "outputs": [],
   "source": [
    "with open(\"./data/citedbys_hindex\", \"rb\") as fp:\n",
    "    citedbys_hindex = pickle.load(fp)\n",
    "\n",
    "with open(\"./data/hindices\", \"rb\") as fp:\n",
    "    hindices = pickle.load(fp)"
   ]
  },
  {
   "cell_type": "code",
   "execution_count": null,
   "metadata": {
    "metadata": {}
   },
   "outputs": [],
   "source": [
    "js_string = \"const hindices=[\"\n",
    "\n",
    "for index, citedby_hindices in enumerate(citedbys_hindex):\n",
    "    hindex = hindices[index]\n",
    "    citedby_hindices = sum(citedby_hindices, [])  # ravel\n",
    "\n",
    "    if len(hindex) == 0 or len(citedby_hindices) == 0:\n",
    "        continue\n",
    "\n",
    "    hindex_str = str(hindex)\n",
    "\n",
    "    js_string += \"{\"\n",
    "    js_string += f\"self:{hindex_str},\"\n",
    "    js_string += f\"citedBy:{citedby_hindices}\"\n",
    "    js_string += \"},\"\n",
    "\n",
    "js_string += \"];\"\n",
    "\n",
    "with open(\"./plot/hindices.js\", \"w\") as text_file:\n",
    "    text_file.write(js_string)"
   ]
  }
 ],
 "metadata": {
  "kernelspec": {
   "display_name": ".venv",
   "language": "python",
   "name": "python3"
  },
  "language_info": {
   "codemirror_mode": {
    "name": "ipython",
    "version": 3
   },
   "file_extension": ".py",
   "mimetype": "text/x-python",
   "name": "python",
   "nbconvert_exporter": "python",
   "pygments_lexer": "ipython3",
   "version": "3.10.12"
  }
 },
 "nbformat": 4,
 "nbformat_minor": 2
}
